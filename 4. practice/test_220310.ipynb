{
 "cells": [
  {
   "cell_type": "code",
   "execution_count": 8,
   "metadata": {},
   "outputs": [
    {
     "name": "stdout",
     "output_type": "stream",
     "text": [
      "-\n",
      "3\n",
      "+\n",
      "2\n",
      "6\n",
      "-\n",
      "7\n"
     ]
    }
   ],
   "source": [
    "s=\"-3+26-7\"\n",
    "type(s)\n",
    "for i in enumerate(s):\n",
    "    print(i[1])"
   ]
  },
  {
   "cell_type": "code",
   "execution_count": 20,
   "metadata": {},
   "outputs": [
    {
     "data": {
      "text/plain": [
       "[4, 6]"
      ]
     },
     "execution_count": 20,
     "metadata": {},
     "output_type": "execute_result"
    }
   ],
   "source": [
    "nums =[]\n",
    "area=12\n",
    "for i in range(1,area+1):\n",
    "    if area%i==0:\n",
    "        nums.append(i)\n",
    "length = len(nums)\n",
    "idx = int(length/2)\n",
    "answer = [nums[idx],nums[idx+1]]\n",
    "answer"
   ]
  },
  {
   "cell_type": "code",
   "execution_count": 28,
   "metadata": {},
   "outputs": [
    {
     "data": {
      "text/plain": [
       "[4, 6]"
      ]
     },
     "execution_count": 28,
     "metadata": {},
     "output_type": "execute_result"
    }
   ],
   "source": [
    "nums =[]\n",
    "area= 2\n",
    "def solution(area):\n",
    "    sqrt = area**(1/2)\n",
    "    if sqrt%1==0:\n",
    "        answer = [sqrt,sqrt]\n",
    "    else:\n",
    "        for i in range(1,area+1):\n",
    "            if area%i==0:\n",
    "                nums.append(i)\n",
    "        length = len(nums)\n",
    "        idx = int(length/2)\n",
    "        answer = [nums[idx],nums[idx+1]]\n",
    "    return answer\n",
    "answer"
   ]
  },
  {
   "cell_type": "code",
   "execution_count": 38,
   "metadata": {},
   "outputs": [
    {
     "data": {
      "text/plain": [
       "[]"
      ]
     },
     "execution_count": 38,
     "metadata": {},
     "output_type": "execute_result"
    }
   ],
   "source": [
    "nums = []\n",
    "area = 16\n",
    "def solution(area):\n",
    "    sqrt = area**(1/2)\n",
    "    if sqrt%1==0:\n",
    "        answer = [sqrt,sqrt]\n",
    "    else:\n",
    "        for i in range(1,area+1):\n",
    "            if area%i==0:\n",
    "                nums.append(i)\n",
    "        length = len(nums)\n",
    "        idx = int(length/2)\n",
    "        answer = [nums[idx],nums[idx+1]]\n",
    "    return answer\n",
    "answer"
   ]
  },
  {
   "cell_type": "code",
   "execution_count": 50,
   "metadata": {},
   "outputs": [
    {
     "data": {
      "text/plain": [
       "[16, 16]"
      ]
     },
     "execution_count": 50,
     "metadata": {},
     "output_type": "execute_result"
    }
   ],
   "source": [
    "nums = []\n",
    "area = 256\n",
    "sqrt = area**(1/2)\n",
    "if sqrt%1==0:\n",
    "    answer = [int(sqrt),int(sqrt)]\n",
    "else:\n",
    "    for i in range(1,area+1):\n",
    "        if area%i==0:\n",
    "            nums.append(i)\n",
    "    length = len(nums)\n",
    "    idx = int(length/2)\n",
    "    answer = [nums[idx-1],nums[idx]]\n",
    "answer"
   ]
  },
  {
   "cell_type": "code",
   "execution_count": 52,
   "metadata": {},
   "outputs": [
    {
     "data": {
      "text/plain": [
       "[16, 16]"
      ]
     },
     "execution_count": 52,
     "metadata": {},
     "output_type": "execute_result"
    }
   ],
   "source": [
    "import numpy as np\n",
    "history = [3, 2, -3, 1, -1, -2, 4, -4, 1, -1]\n",
    "infected = 2\n",
    "def solution(history, infected):\n",
    "    infac_num1 = history.index(infected)\n",
    "    infac_num2 = history.index(-infected)\n",
    "    mang_people = history[infac_num1+1:infac_num2]\n",
    "    mang_people = np.abs(mang_people)\n",
    "    mang_people = list(set(mang_people))\n",
    "    answer = mang_people.sort()\n",
    "    return answer\n",
    "answer"
   ]
  },
  {
   "cell_type": "code",
   "execution_count": 59,
   "metadata": {},
   "outputs": [
    {
     "data": {
      "text/plain": [
       "[1, 3]"
      ]
     },
     "execution_count": 59,
     "metadata": {},
     "output_type": "execute_result"
    }
   ],
   "source": [
    "import numpy as np\n",
    "history = [3, 2, -3, 1, -1, -2, 4, -4, 1, -1]\n",
    "infected = 2\n",
    "infac_num1 = history.index(infected)\n",
    "infac_num2 = history.index(-infected)\n",
    "mang_people = history[infac_num1+1:infac_num2]\n",
    "mang_people = list(np.abs(mang_people))\n",
    "mang_people = list(set(mang_people))\n",
    "mang_people"
   ]
  },
  {
   "cell_type": "code",
   "execution_count": null,
   "metadata": {},
   "outputs": [],
   "source": [
    "infac_num2 = history.index(-infected)\n",
    "mang_people = history[infac_num1+1:infac_num2]\n",
    "mang_people = list(np.abs(mang_people))\n",
    "mang_people = list(set(mang_people))\n",
    "answer = mang_people.sort()\n",
    "answer"
   ]
  },
  {
   "cell_type": "code",
   "execution_count": null,
   "metadata": {},
   "outputs": [],
   "source": [
    "def solution(history, infected):\n",
    "    infac_num1 = history.index(infected)\n",
    "    infac_num2 = history.index(-infected)\n",
    "    mang_people = history[infac_num1+1:infac_num2]\n",
    "    mang_people = [abs(mang_people[i]) for i in range(len(mang_people))]\n",
    "    mang_people = list(set(mang_people))\n",
    "    return mang_people\n"
   ]
  },
  {
   "cell_type": "code",
   "execution_count": 1,
   "metadata": {},
   "outputs": [
    {
     "data": {
      "text/plain": [
       "[1, 3]"
      ]
     },
     "execution_count": 1,
     "metadata": {},
     "output_type": "execute_result"
    }
   ],
   "source": [
    "history = [3, 2, -3, 1, -1, -2, 4, -4, 1, -1]\n",
    "infected = 2\n",
    "infac_num1 = history.index(infected)\n",
    "infac_num2 = history.index(-infected)\n",
    "mang_people = history[infac_num1+1:infac_num2]\n",
    "mang_people = [abs(mang_people[i]) for i in range(len(mang_people))]\n",
    "mang_people = list(set(mang_people))\n",
    "mang_people"
   ]
  }
 ],
 "metadata": {
  "interpreter": {
   "hash": "e337f0942300708a31a7526e6de0a2dc524f0979495aecb5d828190a79a992b3"
  },
  "kernelspec": {
   "display_name": "Python 3.9.7 ('py39')",
   "language": "python",
   "name": "python3"
  },
  "language_info": {
   "codemirror_mode": {
    "name": "ipython",
    "version": 3
   },
   "file_extension": ".py",
   "mimetype": "text/x-python",
   "name": "python",
   "nbconvert_exporter": "python",
   "pygments_lexer": "ipython3",
   "version": "3.9.7"
  },
  "orig_nbformat": 4
 },
 "nbformat": 4,
 "nbformat_minor": 2
}
