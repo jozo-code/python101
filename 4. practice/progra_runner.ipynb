{
 "cells": [
  {
   "cell_type": "code",
   "execution_count": 4,
   "metadata": {},
   "outputs": [],
   "source": [
    "participant = [\"leo\", \"kiki\", \"eden\"]\n",
    "completion = [\"eden\", \"kiki\"]"
   ]
  },
  {
   "cell_type": "code",
   "execution_count": 2,
   "metadata": {},
   "outputs": [
    {
     "name": "stdout",
     "output_type": "stream",
     "text": [
      "eden\n",
      "kiki\n"
     ]
    }
   ],
   "source": [
    "for person in completion:\n",
    "    print(person)"
   ]
  },
  {
   "cell_type": "code",
   "execution_count": 3,
   "metadata": {},
   "outputs": [
    {
     "data": {
      "text/plain": [
       "'leo'"
      ]
     },
     "execution_count": 3,
     "metadata": {},
     "output_type": "execute_result"
    }
   ],
   "source": [
    "# 이 코드는 정확성 100%, 효율성 0% 라고 나옴\n",
    "\n",
    "def solution(participant, completion):\n",
    "    for person in completion:\n",
    "        participant.remove(person)\n",
    "    answer = participant[0]\n",
    "    return answer\n",
    "solution(participant,completion)"
   ]
  },
  {
   "cell_type": "code",
   "execution_count": 12,
   "metadata": {},
   "outputs": [
    {
     "data": {
      "text/plain": [
       "'leo'"
      ]
     },
     "execution_count": 12,
     "metadata": {},
     "output_type": "execute_result"
    }
   ],
   "source": [
    "# 정답 코드\n",
    "\n",
    "\n",
    "def solution(participant, completion):\n",
    "    participant.sort()\n",
    "    completion.sort()\n",
    "    for i in range(len(completion)):\n",
    "        if participant[i] != completion[i]:\n",
    "            return participant[i]\n",
    "    return participant[i+1]\n",
    "solution(participant,completion)"
   ]
  },
  {
   "cell_type": "code",
   "execution_count": 7,
   "metadata": {},
   "outputs": [
    {
     "data": {
      "text/plain": [
       "'leo'"
      ]
     },
     "execution_count": 7,
     "metadata": {},
     "output_type": "execute_result"
    }
   ],
   "source": [
    "# 코드 리뷰\n",
    "\n",
    "import collections\n",
    "\n",
    "def solution(participant, completion):\n",
    "    c = collections.Counter(participant) - collections.Counter(completion)\n",
    "    d = c.keys()\n",
    "    return list(d)[0]\n",
    "\n",
    "solution(participant,completion)"
   ]
  }
 ],
 "metadata": {
  "interpreter": {
   "hash": "e337f0942300708a31a7526e6de0a2dc524f0979495aecb5d828190a79a992b3"
  },
  "kernelspec": {
   "display_name": "Python 3.9.7 ('py39')",
   "language": "python",
   "name": "python3"
  },
  "language_info": {
   "codemirror_mode": {
    "name": "ipython",
    "version": 3
   },
   "file_extension": ".py",
   "mimetype": "text/x-python",
   "name": "python",
   "nbconvert_exporter": "python",
   "pygments_lexer": "ipython3",
   "version": "3.9.7"
  },
  "orig_nbformat": 4
 },
 "nbformat": 4,
 "nbformat_minor": 2
}
