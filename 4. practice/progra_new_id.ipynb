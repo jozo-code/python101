{
 "cells": [
  {
   "cell_type": "code",
   "execution_count": null,
   "metadata": {},
   "outputs": [],
   "source": [
    "def solution(new_id):\n",
    "    new_id2 = ''\n",
    "    answer = \"\"\n",
    "    new_id5 = \"\"\n",
    "\n",
    "    #1\n",
    "    new_id = new_id.lower()\n",
    "    #2\n",
    "    for s in new_id:\n",
    "        if s.isalpha() or s.isdigit() or s in [\"-\",\"_\",\".\"]:\n",
    "            new_id2 += s\n",
    "    #3\n",
    "    while \"..\" in new_id2:\n",
    "        new_id2 = new_id2.replace(\"..\",\".\")\n",
    "    #4\n",
    "    if new_id2[0]==\".\":\n",
    "        new_id3 = new_id[1:]\n",
    "    else:\n",
    "        new_id3 = new_id2\n",
    "    if new_id3[-1]==\".\":\n",
    "        new_id3 = new_id3[:-1]\n",
    "    #5\n",
    "    if new_id3 ==\"\":\n",
    "        new_id3 =\"a\"\n",
    "    #6\n",
    "    if len(new_id3)>15:\n",
    "        new_id5 = new_id3[:15]\n",
    "        if new_id5[-1]==\".\":\n",
    "            new_id5 = new_id5[:-1]\n",
    "        else:\n",
    "            new_id5 = new_id3\n",
    "    #7\n",
    "    while len(new_id5)<3:\n",
    "        answer += new_id5[-1]\n",
    "    return answer"
   ]
  },
  {
   "cell_type": "markdown",
   "metadata": {},
   "source": [
    "- [^문자]\t|해당 문자를 제외한 문자를 매치합니다.\n",
    "- \\W\t    |문자 또는 숫자가 아닌 문자를 의미합니다. [^a-zA-Z0-9]와 의미가 동일합니다.\n",
    "- \\\t        |역 슬래쉬 문자 자체를 의미합니다\n",
    "- re.sub()\t|문자열에서 정규 표현식과 일치하는 부분에 대해서 다른 문자열로 대체합니다.\n",
    "- \"+\"\t        |앞의 문자가 최소 한 개 이상 존재합니다. (문자가 1개 이상)\n",
    "- $\t        |앞의 문자열로 문자열이 끝납니다.\n",
    "- [ ]\t    |대괄호 안의 문자들 중 한 개의 문자와 매치합니다. [amk]라고 한다면 a 또는 m 또는 k 중 하나라도 존재하면 매치를 의미합니다. "
   ]
  },
  {
   "cell_type": "code",
   "execution_count": null,
   "metadata": {},
   "outputs": [],
   "source": [
    "import re\n",
    "\n",
    "def solution(new_id):\n",
    "    st = new_id\n",
    "    st = st.lower()\n",
    "    st = re.sub('[^a-z0-9\\-_.]', '', st) \n",
    "    st = re.sub('\\.+', '.', st)\n",
    "    st = re.sub('^[.]|[.]$', '', st)\n",
    "    st = 'a' if len(st) == 0 else st[:15]\n",
    "    st = re.sub('^[.]|[.]$', '', st)\n",
    "    st = st if len(st) > 2 else st + \"\".join([st[-1] for i in range(3-len(st))])\n",
    "    return st"
   ]
  }
 ],
 "metadata": {
  "interpreter": {
   "hash": "e337f0942300708a31a7526e6de0a2dc524f0979495aecb5d828190a79a992b3"
  },
  "kernelspec": {
   "display_name": "Python 3.9.7 ('py39')",
   "language": "python",
   "name": "python3"
  },
  "language_info": {
   "codemirror_mode": {
    "name": "ipython",
    "version": 3
   },
   "file_extension": ".py",
   "mimetype": "text/x-python",
   "name": "python",
   "nbconvert_exporter": "python",
   "pygments_lexer": "ipython3",
   "version": "3.9.7"
  },
  "orig_nbformat": 4
 },
 "nbformat": 4,
 "nbformat_minor": 2
}
