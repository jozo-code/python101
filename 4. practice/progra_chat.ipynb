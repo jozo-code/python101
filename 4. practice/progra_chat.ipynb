{
 "cells": [
  {
   "cell_type": "code",
   "execution_count": null,
   "metadata": {},
   "outputs": [],
   "source": [
    "def solution(record):\n",
    "    answer = []\n",
    "    userDB = dict()\n",
    "    actions = []\n",
    "    \n",
    "    for item in record:\n",
    "        info = item.split()\n",
    "        action, userid = info[0], info[1]\n",
    "        if action in (\"Enter\",\"Change\"):\n",
    "            nickname = info[2]\n",
    "            userDB[userid]=nickname\n",
    "        actions.append((action,userid))\n",
    "    \n",
    "    for actionInfo in actions:\n",
    "        action, userid = actionInfo[0], actionInfo[1]\n",
    "        if action == \"Enter\":\n",
    "            answer.append(f'{userDB[userid]}님이 들어왔습니다.')\n",
    "        elif action == \"Leave\":\n",
    "            answer.append(f'{userDB[userid]}님이 나갔습니다.')\n",
    "    return answer"
   ]
  },
  {
   "cell_type": "code",
   "execution_count": 9,
   "metadata": {},
   "outputs": [],
   "source": [
    "answer = []\n",
    "userDB = dict()\n",
    "actions = []\n",
    "record = [\"Enter uid1234 Muzi\", \"Enter uid4567 Prodo\",\"Leave uid1234\",\"Enter uid1234 Prodo\",\"Change uid4567 Ryan\"]"
   ]
  },
  {
   "cell_type": "code",
   "execution_count": 10,
   "metadata": {},
   "outputs": [
    {
     "name": "stdout",
     "output_type": "stream",
     "text": [
      "[('Enter', 'uid1234')]\n",
      "{'uid1234': 'Muzi'}\n",
      "[('Enter', 'uid1234'), ('Enter', 'uid4567')]\n",
      "{'uid1234': 'Muzi', 'uid4567': 'Prodo'}\n",
      "[('Enter', 'uid1234'), ('Enter', 'uid4567'), ('Leave', 'uid1234')]\n",
      "{'uid1234': 'Muzi', 'uid4567': 'Prodo'}\n",
      "[('Enter', 'uid1234'), ('Enter', 'uid4567'), ('Leave', 'uid1234'), ('Enter', 'uid1234')]\n",
      "{'uid1234': 'Prodo', 'uid4567': 'Prodo'}\n",
      "[('Enter', 'uid1234'), ('Enter', 'uid4567'), ('Leave', 'uid1234'), ('Enter', 'uid1234'), ('Change', 'uid4567')]\n",
      "{'uid1234': 'Prodo', 'uid4567': 'Ryan'}\n"
     ]
    }
   ],
   "source": [
    "for item in record:\n",
    "    info = item.split()\n",
    "    action, userid = info[0], info[1]\n",
    "    if action in (\"Enter\",\"Change\"):\n",
    "        nickname = info[2]\n",
    "        userDB[userid]=nickname\n",
    "    actions.append((action,userid))\n",
    "    print(actions)\n",
    "    print(userDB)"
   ]
  },
  {
   "cell_type": "code",
   "execution_count": 11,
   "metadata": {},
   "outputs": [
    {
     "name": "stdout",
     "output_type": "stream",
     "text": [
      "Enter uid1234\n",
      "['Prodo님이 들어왔습니다.']\n",
      "Enter uid4567\n",
      "['Prodo님이 들어왔습니다.', 'Ryan님이 들어왔습니다.']\n",
      "Leave uid1234\n",
      "['Prodo님이 들어왔습니다.', 'Ryan님이 들어왔습니다.', 'Prodo님이 나갔습니다.']\n",
      "Enter uid1234\n",
      "['Prodo님이 들어왔습니다.', 'Ryan님이 들어왔습니다.', 'Prodo님이 나갔습니다.', 'Prodo님이 들어왔습니다.']\n",
      "Change uid4567\n",
      "['Prodo님이 들어왔습니다.', 'Ryan님이 들어왔습니다.', 'Prodo님이 나갔습니다.', 'Prodo님이 들어왔습니다.']\n"
     ]
    }
   ],
   "source": [
    "for actionInfo in actions:\n",
    "    action, userid = actionInfo[0], actionInfo[1]\n",
    "    if action == \"Enter\":\n",
    "        answer.append(f'{userDB[userid]}님이 들어왔습니다.')\n",
    "    elif action == \"Leave\":\n",
    "        answer.append(f'{userDB[userid]}님이 나갔습니다.')\n",
    "    print(action, userid)\n",
    "    print(answer)"
   ]
  }
 ],
 "metadata": {
  "interpreter": {
   "hash": "e337f0942300708a31a7526e6de0a2dc524f0979495aecb5d828190a79a992b3"
  },
  "kernelspec": {
   "display_name": "Python 3.9.7 ('py39')",
   "language": "python",
   "name": "python3"
  },
  "language_info": {
   "codemirror_mode": {
    "name": "ipython",
    "version": 3
   },
   "file_extension": ".py",
   "mimetype": "text/x-python",
   "name": "python",
   "nbconvert_exporter": "python",
   "pygments_lexer": "ipython3",
   "version": "3.9.7"
  },
  "orig_nbformat": 4
 },
 "nbformat": 4,
 "nbformat_minor": 2
}
