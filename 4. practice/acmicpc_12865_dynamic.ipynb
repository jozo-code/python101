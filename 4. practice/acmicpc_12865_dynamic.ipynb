{
 "cells": [
  {
   "cell_type": "code",
   "execution_count": 21,
   "metadata": {},
   "outputs": [
    {
     "data": {
      "text/plain": [
       "[[0, 0, 0, 0, 0, 0, 0, 0],\n",
       " [0, 0, 0, 0, 0, 0, 0, 0],\n",
       " [0, 0, 0, 0, 0, 0, 0, 0],\n",
       " [0, 0, 0, 0, 0, 0, 0, 0],\n",
       " [0, 0, 0, 0, 0, 0, 0, 0]]"
      ]
     },
     "execution_count": 21,
     "metadata": {},
     "output_type": "execute_result"
    }
   ],
   "source": [
    "N = 4\n",
    "K = 7\n",
    "weight = [0,1,1,2,5]\n",
    "value = [0,13,8,6,12]\n",
    "\n",
    "dp=[[0 for _ in range(K+1)] for _ in range(N+1)]\n",
    "dp"
   ]
  },
  {
   "cell_type": "markdown",
   "metadata": {},
   "source": [
    "위의 행렬을\n",
    " 0  1  2  3  4  5  6  7 \n",
    "[0, 0, 0, 0, 0, 0, 0, 0]\n",
    "[0, 13, 21, 21, 21, 21, 21, 21]\n",
    "[0, 13, 21, 21, 27, 27, 27, 27]\n",
    "[0, 13, 21, 21, 27, 27, 27, 33]\n",
    "[0, 0, 0, 6, 8, 12, 13, 14]"
   ]
  },
  {
   "cell_type": "code",
   "execution_count": 22,
   "metadata": {},
   "outputs": [
    {
     "name": "stdout",
     "output_type": "stream",
     "text": [
      "n: 1\n",
      "i: 1\n",
      "if: 13   dp[n-1][i]: 0   dp[n-1][i-weight[n]]+value[n] 13   weight[n]: 1\n",
      "i: 2\n",
      "if: 13   dp[n-1][i]: 0   dp[n-1][i-weight[n]]+value[n] 13   weight[n]: 1\n",
      "i: 3\n",
      "if: 13   dp[n-1][i]: 0   dp[n-1][i-weight[n]]+value[n] 13   weight[n]: 1\n",
      "i: 4\n",
      "if: 13   dp[n-1][i]: 0   dp[n-1][i-weight[n]]+value[n] 13   weight[n]: 1\n",
      "i: 5\n",
      "if: 13   dp[n-1][i]: 0   dp[n-1][i-weight[n]]+value[n] 13   weight[n]: 1\n",
      "i: 6\n",
      "if: 13   dp[n-1][i]: 0   dp[n-1][i-weight[n]]+value[n] 13   weight[n]: 1\n",
      "i: 7\n",
      "if: 13   dp[n-1][i]: 0   dp[n-1][i-weight[n]]+value[n] 13   weight[n]: 1\n",
      "n: 2\n",
      "i: 1\n",
      "if: 13   dp[n-1][i]: 13   dp[n-1][i-weight[n]]+value[n] 8   weight[n]: 1\n",
      "i: 2\n",
      "if: 21   dp[n-1][i]: 13   dp[n-1][i-weight[n]]+value[n] 21   weight[n]: 1\n",
      "i: 3\n",
      "if: 21   dp[n-1][i]: 13   dp[n-1][i-weight[n]]+value[n] 21   weight[n]: 1\n",
      "i: 4\n",
      "if: 21   dp[n-1][i]: 13   dp[n-1][i-weight[n]]+value[n] 21   weight[n]: 1\n",
      "i: 5\n",
      "if: 21   dp[n-1][i]: 13   dp[n-1][i-weight[n]]+value[n] 21   weight[n]: 1\n",
      "i: 6\n",
      "if: 21   dp[n-1][i]: 13   dp[n-1][i-weight[n]]+value[n] 21   weight[n]: 1\n",
      "i: 7\n",
      "if: 21   dp[n-1][i]: 13   dp[n-1][i-weight[n]]+value[n] 21   weight[n]: 1\n",
      "n: 3\n",
      "i: 1\n",
      "else: 13   dp[n-1][i]: 13   weight[n]: 2\n",
      "i: 2\n",
      "if: 21   dp[n-1][i]: 21   dp[n-1][i-weight[n]]+value[n] 6   weight[n]: 2\n",
      "i: 3\n",
      "if: 21   dp[n-1][i]: 21   dp[n-1][i-weight[n]]+value[n] 19   weight[n]: 2\n",
      "i: 4\n",
      "if: 27   dp[n-1][i]: 21   dp[n-1][i-weight[n]]+value[n] 27   weight[n]: 2\n",
      "i: 5\n",
      "if: 27   dp[n-1][i]: 21   dp[n-1][i-weight[n]]+value[n] 27   weight[n]: 2\n",
      "i: 6\n",
      "if: 27   dp[n-1][i]: 21   dp[n-1][i-weight[n]]+value[n] 27   weight[n]: 2\n",
      "i: 7\n",
      "if: 27   dp[n-1][i]: 21   dp[n-1][i-weight[n]]+value[n] 27   weight[n]: 2\n",
      "n: 4\n",
      "i: 1\n",
      "else: 13   dp[n-1][i]: 13   weight[n]: 5\n",
      "i: 2\n",
      "else: 21   dp[n-1][i]: 21   weight[n]: 5\n",
      "i: 3\n",
      "else: 21   dp[n-1][i]: 21   weight[n]: 5\n",
      "i: 4\n",
      "else: 27   dp[n-1][i]: 27   weight[n]: 5\n",
      "i: 5\n",
      "if: 27   dp[n-1][i]: 27   dp[n-1][i-weight[n]]+value[n] 12   weight[n]: 5\n",
      "i: 6\n",
      "if: 27   dp[n-1][i]: 27   dp[n-1][i-weight[n]]+value[n] 25   weight[n]: 5\n",
      "i: 7\n",
      "if: 33   dp[n-1][i]: 27   dp[n-1][i-weight[n]]+value[n] 33   weight[n]: 5\n"
     ]
    }
   ],
   "source": [
    "for n in range(1, N+1): # 모든 물건의 개수 동안\n",
    "    print(\"n:\",n)\n",
    "    for i in range(1, K+1): # 모든 무게에 대해서\n",
    "        print(\"i:\",i)\n",
    "        if i>= weight[n]: # 무게를 넘치지 않는 물건일 경우\n",
    "                dp[n][i]=max(dp[n-1][i], dp[n-1][i-weight[n]]+value[n]) #[행:개수][열:무게]\n",
    "                print(\"if:\",dp[n][i],\"  dp[n-1][i]:\",dp[n-1][i],\"  dp[n-1][i-weight[n]]+value[n]\",dp[n-1][i-weight[n]]+value[n], \"  weight[n]:\",weight[n])\n",
    "        else:\n",
    "                dp[n][i]=dp[n-1][i]\n",
    "                print(\"else:\",dp[n][i], \"  dp[n-1][i]:\",dp[n-1][i], \"  weight[n]:\",weight[n])"
   ]
  }
 ],
 "metadata": {
  "interpreter": {
   "hash": "e337f0942300708a31a7526e6de0a2dc524f0979495aecb5d828190a79a992b3"
  },
  "kernelspec": {
   "display_name": "Python 3.9.7 ('py39')",
   "language": "python",
   "name": "python3"
  },
  "language_info": {
   "codemirror_mode": {
    "name": "ipython",
    "version": 3
   },
   "file_extension": ".py",
   "mimetype": "text/x-python",
   "name": "python",
   "nbconvert_exporter": "python",
   "pygments_lexer": "ipython3",
   "version": "3.9.7"
  },
  "orig_nbformat": 4
 },
 "nbformat": 4,
 "nbformat_minor": 2
}
