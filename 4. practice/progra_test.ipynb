{
 "cells": [
  {
   "cell_type": "code",
   "execution_count": null,
   "metadata": {},
   "outputs": [],
   "source": [
    "# 코드 리뷰\n",
    "\n",
    "import collections\n",
    "\n",
    "def solution(participant, completion):\n",
    "    c = collections.Counter(participant) - collections.Counter(completion)\n",
    "    d = c.keys()\n",
    "    return list(d)[0]\n",
    "\n",
    "solution(participant,completion)"
   ]
  },
  {
   "cell_type": "code",
   "execution_count": null,
   "metadata": {},
   "outputs": [],
   "source": [
    "def solution(answers):\n",
    "    stu_a = [1, 2, 3, 4, 5]\n",
    "    stu_b = [2, 1, 2, 3, 2, 4, 2, 5]\n",
    "    stu_c = [3, 3, 1, 1, 2, 2, 4, 4, 5, 5]\n",
    "    answer = []\n",
    "    result = [0, 0, 0]\n",
    "\n",
    "    for idx, quiz_number in enumerate(answers):\n",
    "        if quiz_number == stu_a[idx % len(stu_a)]:\n",
    "            result[0] += 1\n",
    "        if quiz_number == stu_b[idx % len(stu_b)]:\n",
    "            result[1] += 1\n",
    "        if quiz_number == stu_c[idx % len(stu_c)]:\n",
    "            result[2] += 1\n",
    "\n",
    "    maxvalue = max(result)\n",
    "    for i in range(len(result)):\n",
    "        if result[i] == maxvalue:\n",
    "            answer.append(i+1)\n",
    "\n",
    "    return answer"
   ]
  }
 ],
 "metadata": {
  "language_info": {
   "name": "python"
  },
  "orig_nbformat": 4
 },
 "nbformat": 4,
 "nbformat_minor": 2
}
