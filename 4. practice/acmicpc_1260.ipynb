{
 "cells": [
  {
   "cell_type": "code",
   "execution_count": 25,
   "metadata": {},
   "outputs": [
    {
     "data": {
      "text/plain": [
       "[[0, 0, 0, 0, 0, 0],\n",
       " [0, 0, 0, 0, 0, 0],\n",
       " [0, 0, 0, 0, 0, 0],\n",
       " [0, 0, 0, 0, 0, 0],\n",
       " [0, 0, 0, 0, 0, 0],\n",
       " [0, 0, 0, 0, 0, 0]]"
      ]
     },
     "execution_count": 25,
     "metadata": {},
     "output_type": "execute_result"
    }
   ],
   "source": [
    "N =5\n",
    "edge=[[0] * (N + 1) for i in range(N + 1)]\n",
    "edge"
   ]
  },
  {
   "cell_type": "code",
   "execution_count": 26,
   "metadata": {},
   "outputs": [
    {
     "data": {
      "text/plain": [
       "[0, 0, 0, 0, 0, 0]"
      ]
     },
     "execution_count": 26,
     "metadata": {},
     "output_type": "execute_result"
    }
   ],
   "source": [
    "check = [0] * (N + 1)\n",
    "check"
   ]
  },
  {
   "cell_type": "code",
   "execution_count": 11,
   "metadata": {},
   "outputs": [
    {
     "data": {
      "text/plain": [
       "[[0, 0, 0, 0, 0, 0],\n",
       " [0, 0, 0, 0, 1, 0],\n",
       " [0, 0, 0, 0, 0, 0],\n",
       " [0, 0, 0, 0, 0, 0],\n",
       " [0, 1, 0, 0, 0, 0],\n",
       " [0, 0, 0, 0, 0, 0]]"
      ]
     },
     "execution_count": 11,
     "metadata": {},
     "output_type": "execute_result"
    }
   ],
   "source": [
    "M = 5\n",
    "for i in range(M):\n",
    "    a, b = 1, 2\n",
    "    a, b = 1, 3\n",
    "    a, b = 1, 4\n",
    "    a, b = 1, 4\n",
    "    a, b = 1, 4\n",
    "    edge[a][b] = edge[b][a] = 1\n",
    "edge"
   ]
  },
  {
   "cell_type": "code",
   "execution_count": 13,
   "metadata": {},
   "outputs": [
    {
     "name": "stdout",
     "output_type": "stream",
     "text": [
      "1 \n",
      "1 "
     ]
    }
   ],
   "source": [
    "# 입력 변수 받기\n",
    "# N은 정점의 개수, M은 간선의 개수, V는 탐색을 시작할 정점의 번호, 각각의 라인에 간선이 연결하는 두 정점의 번호가 주어짐\n",
    "V = 1\n",
    "\n",
    "# 깊이 우선 탐색은 스택과 재귀함수를 이용한다.\n",
    "def dfs(V):\n",
    "    # 들어간 곳에 1 넣기\n",
    "    matrix[V] = 1\n",
    "    print(V, end=' ')\n",
    "    # 재귀 함수 선언(V와 인접한 곳을 찾고 방문하지 않았다면 함수 실행)\n",
    "    for i in range(1,N+1):\n",
    "        if(matrix[i]==0 and visited[V][i]==1):\n",
    "            dfs(i)\n",
    "\n",
    "# 너비 우선 탐색은 큐를 이용한다.            \n",
    "def bfs(V):\n",
    "    queue = [V]\n",
    "    \n",
    "    # dfs 끝났을 때 1로 모두 바뀌어있으니까 0으로 방문 체크\n",
    "    matrix[V] = 0\n",
    "    \n",
    "    # \n",
    "    while queue:\n",
    "        V = queue.pop(0)\n",
    "        print(V, end=' ')\n",
    "        for i in range(1, N + 1):\n",
    "            if(matrix[i] == 1 and visited[V][i] == 1):\n",
    "                queue.append(i)\n",
    "                matrix[i] = 0\n",
    "dfs(V)\n",
    "print()\n",
    "bfs(V)"
   ]
  },
  {
   "cell_type": "code",
   "execution_count": 24,
   "metadata": {},
   "outputs": [
    {
     "data": {
      "text/plain": [
       "1"
      ]
     },
     "execution_count": 24,
     "metadata": {},
     "output_type": "execute_result"
    }
   ],
   "source": [
    "V=1\n",
    "queue = [V]\n",
    "queue.pop(0)"
   ]
  }
 ],
 "metadata": {
  "interpreter": {
   "hash": "e337f0942300708a31a7526e6de0a2dc524f0979495aecb5d828190a79a992b3"
  },
  "kernelspec": {
   "display_name": "Python 3.9.7 ('py39')",
   "language": "python",
   "name": "python3"
  },
  "language_info": {
   "codemirror_mode": {
    "name": "ipython",
    "version": 3
   },
   "file_extension": ".py",
   "mimetype": "text/x-python",
   "name": "python",
   "nbconvert_exporter": "python",
   "pygments_lexer": "ipython3",
   "version": "3.9.7"
  },
  "orig_nbformat": 4
 },
 "nbformat": 4,
 "nbformat_minor": 2
}
