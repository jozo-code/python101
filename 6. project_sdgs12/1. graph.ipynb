{
 "cells": [
  {
   "cell_type": "markdown",
   "metadata": {},
   "source": [
    "- pandas를 pd라는 이름으로 불러오기"
   ]
  },
  {
   "cell_type": "code",
   "execution_count": 1,
   "metadata": {},
   "outputs": [],
   "source": [
    "import pandas as pd\n",
    "import numpy as np\n",
    "from scipy import stats\n",
    "import matplotlib.pyplot as plt\n",
    "import seaborn as sns"
   ]
  },
  {
   "cell_type": "markdown",
   "metadata": {},
   "source": [
    "- 긴 파일명을 끝까지 입력하지 말고 적당한 곳에서 TAB 키를 눌러보자\n",
    "- 한글은 encoding 설정이 필수"
   ]
  },
  {
   "cell_type": "code",
   "execution_count": 2,
   "metadata": {},
   "outputs": [
    {
     "data": {
      "text/html": [
       "<div>\n",
       "<style scoped>\n",
       "    .dataframe tbody tr th:only-of-type {\n",
       "        vertical-align: middle;\n",
       "    }\n",
       "\n",
       "    .dataframe tbody tr th {\n",
       "        vertical-align: top;\n",
       "    }\n",
       "\n",
       "    .dataframe thead th {\n",
       "        text-align: right;\n",
       "    }\n",
       "</style>\n",
       "<table border=\"1\" class=\"dataframe\">\n",
       "  <thead>\n",
       "    <tr style=\"text-align: right;\">\n",
       "      <th></th>\n",
       "      <th>나이</th>\n",
       "      <th>성별</th>\n",
       "      <th>직업 또는 전공</th>\n",
       "      <th>지역(광역시도)</th>\n",
       "      <th>1. 지속가능한(책임감 있는) 생산과 소비에 대해 알고 있나요?</th>\n",
       "      <th>2-1. 일상에서 환경보호, 자원순환, 동식물 보호, 공정무역, 다양성 포용, 취약계층 지원 등의 가치를 실현하는 브랜드의 제품을 구매와 관련된 활동(일회용품 줄이기 등)에 얼마나 참여하고 있나요?</th>\n",
       "      <th>2-2. 지속가능한 소비 실천 경험을 모두 선택해주세요.</th>\n",
       "      <th>2-3. 가장 마음에 들었던 소비 경험과 그 이유는 무엇인가요?</th>\n",
       "      <th>2-4. 지속가능성을 위한 활동 경험을 모두 선택해주세요.</th>\n",
       "      <th>2-5. 가장 마음에 들었던 활동 경험과 그 이유는 무엇인가요?</th>\n",
       "      <th>3. 일상에서 지속가능한 소비의 실천이 어려운 경우가 있었다면 그 이유는 무엇인가요?</th>\n",
       "      <th>4. 만약 모든 조건이 동일한 경우, 구매하려는 제품보다 다른 제품이 환경보호, 자원순환, 동식물 보호, 공정무역, 다양성 포용, 취약계층 지원 등의 지속가능한 특성을 더 포함하고 있다면, 구매하는 브랜드를 바꿀 의향이 있나요?</th>\n",
       "      <th>5-1. 불법고용, 산업재해, 환경오염, 성차별, 유해물질 유발, 갑질 등 사회에 부정적인 영향을 미치는 기업이 있다면, 해당 기업에서 생산한 제품을 피해 다른 브랜드의 제품을 선택할 의향이 있나요?</th>\n",
       "      <th>5-2. 실제로 가장 분노했던 사건과 그 이유는 무엇인가요?</th>\n",
       "      <th>1. 앞으로의 지속가능한 소비 실천을 위해 제공되었으면 하는 기업정보는 무엇인가요? (최대 10개 선택)</th>\n",
       "      <th>2-1. 앞으로의 직장 선택에 있어 해당 근무지의 지속가능생산 및 ESG 이행 여부를 반영할 의사가 있나요?</th>\n",
       "      <th>2-2. 앞으로의 직장 선택을 위해 제공되었으면 하는 기업 정보는 무엇인가요? (최대 10개 선택)</th>\n",
       "      <th>3. 위에서 제시된 정보들 외에 지속가능한 생산과 소비를 위해 필요하다고 생각되는 정보가 있다면 말씀해주세요.</th>\n",
       "      <th>4. 최근에 관심을 가지고 있는 환경 및 사회 문제에 대해 기업에게 건의하고 싶은 점이 있다면 말씀해주세요. 향후 이뤄질 기업과의 워크숍에서 질의 후 답변을 공유하겠습니다.</th>\n",
       "    </tr>\n",
       "  </thead>\n",
       "  <tbody>\n",
       "    <tr>\n",
       "      <th>0</th>\n",
       "      <td>23.0</td>\n",
       "      <td>여</td>\n",
       "      <td>대학생</td>\n",
       "      <td>대구</td>\n",
       "      <td>들어본 적 있음</td>\n",
       "      <td>가끔</td>\n",
       "      <td>비건 및 크루얼티 프리 생필품 구입, 업사이클링 제품 구입, 취약계층 지원 제품 구입</td>\n",
       "      <td>없음</td>\n",
       "      <td>텀블러 사용 등 일회용품 줄이기, 전기 소비량 줄이기</td>\n",
       "      <td>뿌듯함을 느껴서</td>\n",
       "      <td>지속가능한 소비에 대해 관심이 없음</td>\n",
       "      <td>4.0</td>\n",
       "      <td>4.0</td>\n",
       "      <td>없음</td>\n",
       "      <td>폐기물(기업의 폐기물 배출량, 폐기물 재활용 비율), 산업안전(안전보건 추진체계, ...</td>\n",
       "      <td>4.0</td>\n",
       "      <td>환경 라벨링(친환경 인증 제품 및 서비스 비율), 사회 법/규제 위반(불법적인 행위...</td>\n",
       "      <td>없음</td>\n",
       "      <td>없음</td>\n",
       "    </tr>\n",
       "  </tbody>\n",
       "</table>\n",
       "</div>"
      ],
      "text/plain": [
       "     나이 성별 직업 또는 전공 지역(광역시도) 1. 지속가능한(책임감 있는) 생산과 소비에 대해 알고 있나요?  \\\n",
       "0  23.0  여      대학생       대구                            들어본 적 있음   \n",
       "\n",
       "  2-1. 일상에서 환경보호, 자원순환, 동식물 보호, 공정무역, 다양성 포용, 취약계층 지원 등의 가치를 실현하는 브랜드의 제품을 구매와 관련된 활동(일회용품 줄이기 등)에 얼마나 참여하고 있나요?  \\\n",
       "0                                                 가끔                                                               \n",
       "\n",
       "                   2-2. 지속가능한 소비 실천 경험을 모두 선택해주세요.  \\\n",
       "0  비건 및 크루얼티 프리 생필품 구입, 업사이클링 제품 구입, 취약계층 지원 제품 구입   \n",
       "\n",
       "  2-3. 가장 마음에 들었던 소비 경험과 그 이유는 무엇인가요? 2-4. 지속가능성을 위한 활동 경험을 모두 선택해주세요.  \\\n",
       "0                                  없음    텀블러 사용 등 일회용품 줄이기, 전기 소비량 줄이기   \n",
       "\n",
       "  2-5. 가장 마음에 들었던 활동 경험과 그 이유는 무엇인가요?  \\\n",
       "0                            뿌듯함을 느껴서   \n",
       "\n",
       "  3. 일상에서 지속가능한 소비의 실천이 어려운 경우가 있었다면 그 이유는 무엇인가요?  \\\n",
       "0                             지속가능한 소비에 대해 관심이 없음   \n",
       "\n",
       "   4. 만약 모든 조건이 동일한 경우, 구매하려는 제품보다 다른 제품이 환경보호, 자원순환, 동식물 보호, 공정무역, 다양성 포용, 취약계층 지원 등의 지속가능한 특성을 더 포함하고 있다면, 구매하는 브랜드를 바꿀 의향이 있나요?  \\\n",
       "0                                                4.0                                                                                 \n",
       "\n",
       "   5-1. 불법고용, 산업재해, 환경오염, 성차별, 유해물질 유발, 갑질 등 사회에 부정적인 영향을 미치는 기업이 있다면, 해당 기업에서 생산한 제품을 피해 다른 브랜드의 제품을 선택할 의향이 있나요?  \\\n",
       "0                                                4.0                                                                 \n",
       "\n",
       "  5-2. 실제로 가장 분노했던 사건과 그 이유는 무엇인가요?  \\\n",
       "0                                없음   \n",
       "\n",
       "  1. 앞으로의 지속가능한 소비 실천을 위해 제공되었으면 하는 기업정보는 무엇인가요? (최대 10개 선택)  \\\n",
       "0  폐기물(기업의 폐기물 배출량, 폐기물 재활용 비율), 산업안전(안전보건 추진체계, ...           \n",
       "\n",
       "   2-1. 앞으로의 직장 선택에 있어 해당 근무지의 지속가능생산 및 ESG 이행 여부를 반영할 의사가 있나요?  \\\n",
       "0                                                4.0              \n",
       "\n",
       "  2-2. 앞으로의 직장 선택을 위해 제공되었으면 하는 기업 정보는 무엇인가요? (최대 10개 선택)  \\\n",
       "0  환경 라벨링(친환경 인증 제품 및 서비스 비율), 사회 법/규제 위반(불법적인 행위...        \n",
       "\n",
       "  3. 위에서 제시된 정보들 외에 지속가능한 생산과 소비를 위해 필요하다고 생각되는 정보가 있다면 말씀해주세요.  \\\n",
       "0                                                 없음              \n",
       "\n",
       "  4. 최근에 관심을 가지고 있는 환경 및 사회 문제에 대해 기업에게 건의하고 싶은 점이 있다면 말씀해주세요. 향후 이뤄질 기업과의 워크숍에서 질의 후 답변을 공유하겠습니다.  \n",
       "0                                                 없음                                                "
      ]
     },
     "execution_count": 2,
     "metadata": {},
     "output_type": "execute_result"
    }
   ],
   "source": [
    "survey = pd.read_excel(\n",
    "    \"sdg12_data.xlsx\",usecols=\"B:T\"\n",
    ")\n",
    "survey.head(1)"
   ]
  },
  {
   "cell_type": "markdown",
   "metadata": {},
   "source": [
    "- 컬럼 이름 조회하기"
   ]
  },
  {
   "cell_type": "code",
   "execution_count": 3,
   "metadata": {},
   "outputs": [
    {
     "data": {
      "text/plain": [
       "Index(['나이', '성별', '직업 또는 전공', '지역(광역시도)',\n",
       "       '1. 지속가능한(책임감 있는) 생산과 소비에 대해 알고 있나요?',\n",
       "       '2-1. 일상에서 환경보호, 자원순환, 동식물 보호, 공정무역, 다양성 포용, 취약계층 지원 등의 가치를 실현하는 브랜드의 제품을 구매와 관련된 활동(일회용품 줄이기 등)에 얼마나 참여하고 있나요?',\n",
       "       '2-2. 지속가능한 소비 실천 경험을 모두 선택해주세요.',\n",
       "       '2-3. 가장 마음에 들었던 소비 경험과 그 이유는 무엇인가요?',\n",
       "       '2-4. 지속가능성을 위한 활동 경험을 모두 선택해주세요.',\n",
       "       '2-5. 가장 마음에 들었던 활동 경험과 그 이유는 무엇인가요?',\n",
       "       '3. 일상에서 지속가능한 소비의 실천이 어려운 경우가 있었다면 그 이유는 무엇인가요?',\n",
       "       '4. 만약 모든 조건이 동일한 경우, 구매하려는 제품보다 다른 제품이 환경보호, 자원순환, 동식물 보호, 공정무역, 다양성 포용, 취약계층 지원 등의 지속가능한 특성을 더 포함하고 있다면, 구매하는 브랜드를 바꿀 의향이 있나요?',\n",
       "       '5-1. 불법고용, 산업재해, 환경오염, 성차별, 유해물질 유발, 갑질 등 사회에 부정적인 영향을 미치는 기업이 있다면, 해당 기업에서 생산한 제품을 피해 다른 브랜드의 제품을 선택할 의향이 있나요?',\n",
       "       '5-2. 실제로 가장 분노했던 사건과 그 이유는 무엇인가요?',\n",
       "       '1. 앞으로의 지속가능한 소비 실천을 위해 제공되었으면 하는 기업정보는 무엇인가요? (최대 10개 선택)',\n",
       "       '2-1. 앞으로의 직장 선택에 있어 해당 근무지의 지속가능생산 및 ESG 이행 여부를 반영할 의사가 있나요?',\n",
       "       '2-2. 앞으로의 직장 선택을 위해 제공되었으면 하는 기업 정보는 무엇인가요? (최대 10개 선택)',\n",
       "       '3. 위에서 제시된 정보들 외에 지속가능한 생산과 소비를 위해 필요하다고 생각되는 정보가 있다면 말씀해주세요.',\n",
       "       '4. 최근에 관심을 가지고 있는 환경 및 사회 문제에 대해 기업에게 건의하고 싶은 점이 있다면 말씀해주세요. 향후 이뤄질 기업과의 워크숍에서 질의 후 답변을 공유하겠습니다.'],\n",
       "      dtype='object')"
      ]
     },
     "execution_count": 3,
     "metadata": {},
     "output_type": "execute_result"
    }
   ],
   "source": [
    "survey.columns"
   ]
  },
  {
   "cell_type": "code",
   "execution_count": 4,
   "metadata": {},
   "outputs": [
    {
     "data": {
      "text/plain": [
       "19"
      ]
     },
     "execution_count": 4,
     "metadata": {},
     "output_type": "execute_result"
    }
   ],
   "source": [
    "len(survey.columns)"
   ]
  },
  {
   "cell_type": "markdown",
   "metadata": {},
   "source": [
    "- 컬럼이름 바꾸기"
   ]
  },
  {
   "cell_type": "code",
   "execution_count": 5,
   "metadata": {},
   "outputs": [
    {
     "data": {
      "text/html": [
       "<div>\n",
       "<style scoped>\n",
       "    .dataframe tbody tr th:only-of-type {\n",
       "        vertical-align: middle;\n",
       "    }\n",
       "\n",
       "    .dataframe tbody tr th {\n",
       "        vertical-align: top;\n",
       "    }\n",
       "\n",
       "    .dataframe thead th {\n",
       "        text-align: right;\n",
       "    }\n",
       "</style>\n",
       "<table border=\"1\" class=\"dataframe\">\n",
       "  <thead>\n",
       "    <tr style=\"text-align: right;\">\n",
       "      <th></th>\n",
       "      <th>나이</th>\n",
       "      <th>성별</th>\n",
       "      <th>직업</th>\n",
       "      <th>지역</th>\n",
       "      <th>1</th>\n",
       "      <th>2-1</th>\n",
       "      <th>2-2</th>\n",
       "      <th>2-3</th>\n",
       "      <th>2-4</th>\n",
       "      <th>2-5</th>\n",
       "      <th>3</th>\n",
       "      <th>4</th>\n",
       "      <th>5-1</th>\n",
       "      <th>5-2</th>\n",
       "      <th>6</th>\n",
       "      <th>7-1</th>\n",
       "      <th>7-2</th>\n",
       "      <th>8</th>\n",
       "      <th>9</th>\n",
       "    </tr>\n",
       "  </thead>\n",
       "  <tbody>\n",
       "    <tr>\n",
       "      <th>0</th>\n",
       "      <td>23.0</td>\n",
       "      <td>여</td>\n",
       "      <td>대학생</td>\n",
       "      <td>대구</td>\n",
       "      <td>들어본 적 있음</td>\n",
       "      <td>가끔</td>\n",
       "      <td>비건 및 크루얼티 프리 생필품 구입, 업사이클링 제품 구입, 취약계층 지원 제품 구입</td>\n",
       "      <td>없음</td>\n",
       "      <td>텀블러 사용 등 일회용품 줄이기, 전기 소비량 줄이기</td>\n",
       "      <td>뿌듯함을 느껴서</td>\n",
       "      <td>지속가능한 소비에 대해 관심이 없음</td>\n",
       "      <td>4.0</td>\n",
       "      <td>4.0</td>\n",
       "      <td>없음</td>\n",
       "      <td>폐기물(기업의 폐기물 배출량, 폐기물 재활용 비율), 산업안전(안전보건 추진체계, ...</td>\n",
       "      <td>4.0</td>\n",
       "      <td>환경 라벨링(친환경 인증 제품 및 서비스 비율), 사회 법/규제 위반(불법적인 행위...</td>\n",
       "      <td>없음</td>\n",
       "      <td>없음</td>\n",
       "    </tr>\n",
       "    <tr>\n",
       "      <th>1</th>\n",
       "      <td>25.0</td>\n",
       "      <td>여</td>\n",
       "      <td>학생</td>\n",
       "      <td>서울</td>\n",
       "      <td>알고 있음</td>\n",
       "      <td>가끔</td>\n",
       "      <td>비건 및 크루얼티 프리 생필품 구입, 동물복지 및 유기농 식료품 구입, 에너지 및 ...</td>\n",
       "      <td>착한 소비를 구체적 수치로 알려주는 경우</td>\n",
       "      <td>채식, 텀블러 사용 등 일회용품 줄이기, 물 사용량 줄이기, 음식물쓰레기 줄이기, ...</td>\n",
       "      <td>채식_ 건강해지는 효과</td>\n",
       "      <td>후기나 사용성에 대한 정보가 부족함</td>\n",
       "      <td>5.0</td>\n",
       "      <td>5.0</td>\n",
       "      <td>여성 성적대상화 광고</td>\n",
       "      <td>사회 법/규제 위반(불법적인 행위로 사회적 물의를 일으켰는지 여부), 환경 법/규제...</td>\n",
       "      <td>4.0</td>\n",
       "      <td>양성평등(여성 구성원 비율, 여성 급여비율), 인권(인권정책 수립, 인권 리스크 평...</td>\n",
       "      <td>없음</td>\n",
       "      <td>실질적인 친환경 경영 정책 (ESG 라는 이름만 난무)</td>\n",
       "    </tr>\n",
       "  </tbody>\n",
       "</table>\n",
       "</div>"
      ],
      "text/plain": [
       "     나이 성별   직업  지역         1 2-1  \\\n",
       "0  23.0  여  대학생  대구  들어본 적 있음  가끔   \n",
       "1  25.0  여   학생  서울     알고 있음  가끔   \n",
       "\n",
       "                                                 2-2                     2-3  \\\n",
       "0    비건 및 크루얼티 프리 생필품 구입, 업사이클링 제품 구입, 취약계층 지원 제품 구입                      없음   \n",
       "1  비건 및 크루얼티 프리 생필품 구입, 동물복지 및 유기농 식료품 구입, 에너지 및 ...  착한 소비를 구체적 수치로 알려주는 경우   \n",
       "\n",
       "                                                 2-4           2-5  \\\n",
       "0                      텀블러 사용 등 일회용품 줄이기, 전기 소비량 줄이기      뿌듯함을 느껴서   \n",
       "1  채식, 텀블러 사용 등 일회용품 줄이기, 물 사용량 줄이기, 음식물쓰레기 줄이기, ...  채식_ 건강해지는 효과   \n",
       "\n",
       "                     3    4  5-1          5-2  \\\n",
       "0  지속가능한 소비에 대해 관심이 없음  4.0  4.0           없음   \n",
       "1  후기나 사용성에 대한 정보가 부족함  5.0  5.0  여성 성적대상화 광고   \n",
       "\n",
       "                                                   6  7-1  \\\n",
       "0  폐기물(기업의 폐기물 배출량, 폐기물 재활용 비율), 산업안전(안전보건 추진체계, ...  4.0   \n",
       "1  사회 법/규제 위반(불법적인 행위로 사회적 물의를 일으켰는지 여부), 환경 법/규제...  4.0   \n",
       "\n",
       "                                                 7-2   8  \\\n",
       "0  환경 라벨링(친환경 인증 제품 및 서비스 비율), 사회 법/규제 위반(불법적인 행위...  없음   \n",
       "1  양성평등(여성 구성원 비율, 여성 급여비율), 인권(인권정책 수립, 인권 리스크 평...  없음   \n",
       "\n",
       "                                9  \n",
       "0                              없음  \n",
       "1  실질적인 친환경 경영 정책 (ESG 라는 이름만 난무)  "
      ]
     },
     "execution_count": 5,
     "metadata": {},
     "output_type": "execute_result"
    }
   ],
   "source": [
    "survey.columns=[\"나이\", \"성별\", \"직업\",'지역', '1', '2-1','2-2','2-3','2-4','2-5','3','4','5-1','5-2','6','7-1','7-2','8','9']\n",
    "survey.head(2)"
   ]
  },
  {
   "cell_type": "code",
   "execution_count": 6,
   "metadata": {},
   "outputs": [],
   "source": [
    "import matplotlib.pyplot as plt\n",
    "from matplotlib import rc\n",
    "\n",
    "rc(\"font\", family=\"Malgu Gothic\")\n",
    "get_ipython().run_line_magic(\"matplotlib\",\"inline\") # 주피터에 바로 그래프 그리려고 하는거임"
   ]
  },
  {
   "cell_type": "code",
   "execution_count": 7,
   "metadata": {},
   "outputs": [
    {
     "data": {
      "text/plain": [
       "0      23.0\n",
       "1      25.0\n",
       "2      21.0\n",
       "3      26.0\n",
       "4      23.0\n",
       "       ... \n",
       "109    22.0\n",
       "110    20.0\n",
       "111    21.0\n",
       "112    26.0\n",
       "113    25.0\n",
       "Name: 나이, Length: 114, dtype: float64"
      ]
     },
     "execution_count": 7,
     "metadata": {},
     "output_type": "execute_result"
    }
   ],
   "source": [
    "survey[\"나이\"]"
   ]
  },
  {
   "cell_type": "code",
   "execution_count": 8,
   "metadata": {},
   "outputs": [
    {
     "data": {
      "text/plain": [
       "Text(0, 0.5, '도수(Frequency)')"
      ]
     },
     "execution_count": 8,
     "metadata": {},
     "output_type": "execute_result"
    },
    {
     "data": {
      "image/png": "[encoded data removed]",
      "text/plain": [
       "<Figure size 720x432 with 1 Axes>"
      ]
     },
     "metadata": {
      "needs_background": "light"
     },
     "output_type": "display_data"
    }
   ],
   "source": [
    "from matplotlib import font_manager, rc\n",
    "import matplotlib.pyplot as plt\n",
    "\n",
    "\n",
    "font_name = font_manager.FontProperties(fname=\"c:/Windows/Fonts/malgun.ttf\").get_name()\n",
    "rc('font', family=font_name)\n",
    "bins = np.arange(0,60,5)\n",
    "ylims = [0,100]\n",
    "\n",
    "\n",
    "plt=survey[\"나이\"].plot(kind=\"hist\",\n",
    "                        color=\"orange\",\n",
    "                        bins=bins,rwidth=0.8,\n",
    "                        xticks=bins,\n",
    "                        ylim=ylims,\n",
    "                        figsize=(10,6))\n",
    "plt.grid()\n",
    "plt.set_xlabel(\"나이\",fontsize=12)\n",
    "plt.set_ylabel(\"도수(Frequency)\",fontsize=12)"
   ]
  },
  {
   "cell_type": "code",
   "execution_count": 9,
   "metadata": {},
   "outputs": [
    {
     "data": {
      "text/html": [
       "<div>\n",
       "<style scoped>\n",
       "    .dataframe tbody tr th:only-of-type {\n",
       "        vertical-align: middle;\n",
       "    }\n",
       "\n",
       "    .dataframe tbody tr th {\n",
       "        vertical-align: top;\n",
       "    }\n",
       "\n",
       "    .dataframe thead th {\n",
       "        text-align: right;\n",
       "    }\n",
       "</style>\n",
       "<table border=\"1\" class=\"dataframe\">\n",
       "  <thead>\n",
       "    <tr style=\"text-align: right;\">\n",
       "      <th></th>\n",
       "      <th>응답 수</th>\n",
       "      <th>비율</th>\n",
       "    </tr>\n",
       "  </thead>\n",
       "  <tbody>\n",
       "    <tr>\n",
       "      <th>여</th>\n",
       "      <td>98</td>\n",
       "      <td>0.859649</td>\n",
       "    </tr>\n",
       "    <tr>\n",
       "      <th>남</th>\n",
       "      <td>16</td>\n",
       "      <td>0.140351</td>\n",
       "    </tr>\n",
       "  </tbody>\n",
       "</table>\n",
       "</div>"
      ],
      "text/plain": [
       "   응답 수        비율\n",
       "여    98  0.859649\n",
       "남    16  0.140351"
      ]
     },
     "execution_count": 9,
     "metadata": {},
     "output_type": "execute_result"
    }
   ],
   "source": [
    "survey_sex_count = pd.DataFrame(\n",
    "    survey['성별'].value_counts())\n",
    "survey_sex_percent = pd.DataFrame(\n",
    "    survey['성별'].value_counts(normalize=True))\n",
    "survey_sex_df = survey_sex_count.merge(\n",
    "    survey_sex_percent, left_index=True, right_index=True)\n",
    "survey_sex_df.columns = ['응답 수', '비율']\n",
    "survey_sex_df"
   ]
  },
  {
   "cell_type": "code",
   "execution_count": 21,
   "metadata": {},
   "outputs": [
    {
     "data": {
      "image/png": "[encoded data removed]",
      "text/plain": [
       "<Figure size 432x288 with 1 Axes>"
      ]
     },
     "metadata": {
      "needs_background": "light"
     },
     "output_type": "display_data"
    },
    {
     "data": {
      "text/plain": [
       "1.0"
      ]
     },
     "execution_count": 21,
     "metadata": {},
     "output_type": "execute_result"
    }
   ],
   "source": [
    "import numpy as np\n",
    "import matplotlib.pyplot as plt\n",
    "\n",
    "a=plt.bar(survey_sex_df.index,survey_sex_df[\"응답 수\"],color=[\"orange\",\"dodgerblue\"],width=0.6)  # 해당 인덱스에 일치하는 값을 가진, 바 형태 그래프 생성\n",
    "plt.xlabel(\"성별\",fontsize=14)\n",
    "plt.ylabel(\"도수(Frequency)\",fontsize=14)\n",
    "\n",
    "plt.text(0.0,90,\n",
    "        survey_sex_df[\"응답 수\"][0], \n",
    "        fontsize=15, ha=\"center\")\n",
    "plt.text(1.0,10,\n",
    "        survey_sex_df[\"응답 수\"][1], \n",
    "        fontsize=15, ha=\"center\")\n",
    "plt.show()\n",
    "\n",
    "\n",
    "a.patches[1].get_x()+a.patches[1].get_width()/2"
   ]
  }
 ],
 "metadata": {
  "interpreter": {
   "hash": "e337f0942300708a31a7526e6de0a2dc524f0979495aecb5d828190a79a992b3"
  },
  "kernelspec": {
   "display_name": "Python 3.9.7 ('py39')",
   "language": "python",
   "name": "python3"
  },
  "language_info": {
   "codemirror_mode": {
    "name": "ipython",
    "version": 3
   },
   "file_extension": ".py",
   "mimetype": "text/x-python",
   "name": "python",
   "nbconvert_exporter": "python",
   "pygments_lexer": "ipython3",
   "version": "3.9.7"
  },
  "orig_nbformat": 4
 },
 "nbformat": 4,
 "nbformat_minor": 2
}
